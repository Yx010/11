{
 "cells": [
  {
   "cell_type": "code",
   "execution_count": null,
   "metadata": {},
   "outputs": [],
   "source": [
    "import pandas as pd\n",
    "import os\n",
    "import seaborn as sns\n",
    "import pydotplus\n",
    "import matplotlib\n",
    "import warnings\n",
    "from scipy.stats import pearsonr\n",
    "import numpy as np\n",
    "#The list of  the excle is group and features of icc>0.75\n",
    "xlsx1_filePath = 'D:\\\\pearson\\\\outputicc intra and inter class1.xlsx'#  If cloums length>3000, you need to split the table, do it in several times\n",
    "data= pd.read_excel(xlsx1_filePath)\n",
    "rows,cloums = data.shape  \n",
    "data=data.fillna(0) \n",
    "data.shape\n",
    "# Feature dimensions, printing column names\n",
    "bc_data = data\n",
    "print(bc_data.columns)\n",
    "xtrain_columns = bc_data.columns[1:]  #Print from array subscript 1\n",
    "print(xtrain_columns)"
   ]
  },
  {
   "cell_type": "code",
   "execution_count": null,
   "metadata": {},
   "outputs": [],
   "source": [
    "co = np.zeros((len(xtrain_columns), len(xtrain_columns)))  # CO is a two-dimensional array\n",
    "myList = []\n",
    "for idx_i, i in enumerate(xtrain_columns):\n",
    "    for idx_j, j in enumerate(xtrain_columns):\n",
    "        value = pearsonr(bc_data[i], bc_data[j])\n",
    "        co[idx_i, idx_j] = value[0]\n",
    "        if(value[0] > 0.9):\n",
    "            #print(i + \"------\" + j + \"------------\"+str(value[0]))\n",
    "            if(i == j): #Skip same feature\n",
    "                continue\n",
    "                \n",
    "            myList2 = []\n",
    "            #Compare the size of string and confirm the order\n",
    "            if(i > j):\n",
    "                myList2.append(i)\n",
    "                myList2.append(j)\n",
    "                myList2.append(value[0])\n",
    "            else:\n",
    "                myList2.append(j)\n",
    "                myList2.append(i)\n",
    "                myList2.append(value[0])\n",
    "            \n",
    "            myList.append(myList2)\n",
    "    \n",
    "      \n",
    "co_pd = pd.DataFrame(co, columns=xtrain_columns, index=xtrain_columns)\n",
    "co_pd = co_pd[co_pd > 0.9]\n",
    "\n",
    "# De duplication according to value characteristics\n",
    "data4 = pd.DataFrame(myList,columns=list('ABC'))\n",
    "data4.to_excel('11.xlsx')\n",
    "data4.drop_duplicates(inplace=True)\n",
    "\n",
    "data4.drop_duplicates(subset=['A','B','C'],keep='first',inplace=True)\n",
    "data4.to_excel('22.xlsx')\n",
    "\n",
    "deleteList= []\n",
    "for index, row in data4.iterrows():\n",
    "    deleteList.append(row['A'])\n",
    "\n",
    "#Removed features\n",
    "li=list(set(deleteList))\n",
    "#print(li)# Show removed features\n",
    "\n",
    "#Save features with Pearson>0.9\n",
    "newData = data.drop(li, axis=1)  \n",
    "newData.to_excel('outputicc and pearson.xlsx')  "
   ]
  }
 ],
 "metadata": {
  "kernelspec": {
   "display_name": "Python 3",
   "language": "python",
   "name": "python3"
  },
  "language_info": {
   "codemirror_mode": {
    "name": "ipython",
    "version": 3
   },
   "file_extension": ".py",
   "mimetype": "text/x-python",
   "name": "python",
   "nbconvert_exporter": "python",
   "pygments_lexer": "ipython3",
   "version": "3.8.3"
  }
 },
 "nbformat": 4,
 "nbformat_minor": 4
}
