{
 "cells": [
  {
   "cell_type": "code",
   "execution_count": null,
   "metadata": {},
   "outputs": [],
   "source": [
    "import pandas as pd\n",
    "import numpy as np\n",
    "from sklearn.utils import shuffle\n",
    "from sklearn.preprocessing import StandardScaler #\n",
    "import warnings\n",
    "warnings.filterwarnings(\"ignore\")\n",
    "import pingouin as pg\n",
    "\n",
    "#Remove features of icc-intraclass<0.75 by comparing your own result with another's result\n",
    "#The list of  the excle is features name\n",
    "xlsx1_filePath = 'D:\\\\ICC\\\\mydata.xlsx'\n",
    "xlsx2_filePath = 'D:\\\\ICC\\\\data2.xlsx'\n",
    "data_1 = pd.read_excel(xlsx1_filePath)\n",
    "data_2 = pd.read_excel(xlsx2_filePath )\n",
    "\n",
    "data_1.insert(0,\"reader\",np.ones(data_1.shape[0]))\n",
    "data_2.insert(0,\"reader\",np.ones(data_2.shape[0])*2)\n",
    "\n",
    "data_1.insert(0,\"target\",range(data_1.shape[0]))\n",
    "data_2.insert(0,\"target\",range(data_2.shape[0]))\n",
    "\n",
    "data = pd.concat([data_1,data_2]) # make a data frame like the test data \n",
    "#print(data)\n",
    "\n",
    "names = []  #  Column name to be deleted\n",
    "for column in data:\n",
    "    if column != 'target' and column != 'reader' and column != 'id' and column != 'group':\n",
    "        icc = pg.intraclass_corr(data = data, targets = \"target\", raters = \"reader\",ratings = column)\n",
    "        value = icc.loc[0].ICC\n",
    "        if value < 0.75:\n",
    "            names.append(column)\n",
    "    else:\n",
    "        print(\"Column name to be deleted：\" + column)\n",
    "#print(names)\n",
    "newData = data.drop(names, axis=1)  #Remove the ID attribute because it doesn't make sense \n",
    "newData.to_excel('outputiccintra.xlsx')  "
   ]
  },
  {
   "cell_type": "code",
   "execution_count": null,
   "metadata": {},
   "outputs": [],
   "source": [
    "xlsx2_filePath = 'D:\\\\ICC\\\\train first time.xlsx'#Remove features  of  intraclass icc<0.75 from your 1st result\n",
    "data_2 = pd.read_excel(xlsx2_filePath)\n",
    "newData = data_2.drop(names, axis=1)  \n",
    "newData.to_excel('outputicc the first time.xlsx')  \n",
    "\n",
    "xlsx3_filePath = 'D:\\\\ICC\\\\train second time.xlsx'#Remove features  of intraclass icc<0.75 from your 2nd  result\n",
    "data_3 = pd.read_excel(xlsx3_filePath)\n",
    "newData = data_3.drop(names, axis=1)  \n",
    "newData.to_excel('outputicc the second time.xlsx')  "
   ]
  },
  {
   "cell_type": "code",
   "execution_count": null,
   "metadata": {},
   "outputs": [],
   "source": [
    "#Remove features of icc-interclass<0.75 by comparing your first and second results after removing features of icc-intracals<0.75 .\n",
    "xlsx1_filePath = 'D:\\\\ICC\\\\outputicc the first time.xlsx'\n",
    "xlsx2_filePath = 'D:\\\\ICC\\\\outputicc the second time.xlsx'\n",
    "data_1 = pd.read_excel(xlsx1_filePath)\n",
    "data_2 = pd.read_excel(xlsx2_filePath )\n",
    "\n",
    "data_1.insert(0,\"reader\",np.ones(data_1.shape[0]))\n",
    "data_2.insert(0,\"reader\",np.ones(data_2.shape[0])*2)\n",
    "\n",
    "data_1.insert(0,\"target\",range(data_1.shape[0]))\n",
    "data_2.insert(0,\"target\",range(data_2.shape[0]))\n",
    "\n",
    "data = pd.concat([data_1,data_2]) # make a data frame like the test data \n",
    "#print(data)\n",
    "\n",
    "names = []  \n",
    "for column in data:\n",
    "    if column != 'target' and column != 'reader' and column != 'id' and column != 'group':\n",
    "        icc = pg.intraclass_corr(data = data, targets = \"target\", raters = \"reader\",ratings = column)\n",
    "        value = icc.loc[0].ICC\n",
    "        if value < 0.75:\n",
    "            names.append(column)\n",
    "    else:\n",
    "        print(\"Column name to be deleted：\" + column)\n",
    "#print(names)\n",
    "newData = data.drop(names, axis=1)  \n",
    "newData.to_excel('outputicc intra and inter class.xlsx')  # save to excel"
   ]
  }
 ],
 "metadata": {
  "kernelspec": {
   "display_name": "Python 3",
   "language": "python",
   "name": "python3"
  },
  "language_info": {
   "codemirror_mode": {
    "name": "ipython",
    "version": 3
   },
   "file_extension": ".py",
   "mimetype": "text/x-python",
   "name": "python",
   "nbconvert_exporter": "python",
   "pygments_lexer": "ipython3",
   "version": "3.8.3"
  }
 },
 "nbformat": 4,
 "nbformat_minor": 4
}
